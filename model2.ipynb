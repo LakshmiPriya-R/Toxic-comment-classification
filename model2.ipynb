{
 "cells": [
  {
   "cell_type": "code",
   "execution_count": 1,
   "metadata": {},
   "outputs": [],
   "source": [
    "import pandas as pd\n",
    "import numpy as np\n",
    "import matplotlib.pyplot as plt\n",
    "\n",
    "from sklearn.model_selection import cross_val_score\n",
    "from sklearn.linear_model import LogisticRegression\n",
    "from sklearn.feature_extraction.text import CountVectorizer,TfidfVectorizer\n",
    "from sklearn.metrics import log_loss,confusion_matrix,classification_report,roc_curve,auc\n",
    "\n",
    "from scipy import sparse\n",
    "import pickle\n"
   ]
  },
  {
   "cell_type": "code",
   "execution_count": 2,
   "metadata": {},
   "outputs": [],
   "source": [
    "training_data = pd.read_csv('train.csv')\n",
    "testing_data = pd.read_csv('test.csv')\n"
   ]
  },
  {
   "cell_type": "code",
   "execution_count": 3,
   "metadata": {},
   "outputs": [],
   "source": [
    "testing_data.fillna(' ',inplace=True)"
   ]
  },
  {
   "cell_type": "code",
   "execution_count": 4,
   "metadata": {},
   "outputs": [],
   "source": [
    "V_word = TfidfVectorizer(max_features=20000, lowercase=True, analyzer='word',\n",
    "                        stop_words= 'english',ngram_range=(1,3),dtype=np.float32)\n",
    "V_char = TfidfVectorizer(max_features=40000, lowercase=True, analyzer='char',\n",
    "                        stop_words= 'english',ngram_range=(3,6),dtype=np.float32)"
   ]
  },
  {
   "cell_type": "code",
   "execution_count": 5,
   "metadata": {},
   "outputs": [],
   "source": [
    "train_vec =V_word.fit_transform(training_data['comment_text'])\n",
    "test_vec = V_word.transform(testing_data['comment_text'])\n",
    "train_vec_ch = V_char.fit_transform(training_data['comment_text'])\n",
    "test_vec_ch = V_char.transform(testing_data['comment_text'])"
   ]
  },
  {
   "cell_type": "code",
   "execution_count": 6,
   "metadata": {},
   "outputs": [],
   "source": [
    "X = sparse.hstack([train_vec, train_vec_ch])\n",
    "X_test = sparse.hstack([test_vec, test_vec_ch])"
   ]
  },
  {
   "cell_type": "code",
   "execution_count": 7,
   "metadata": {},
   "outputs": [],
   "source": [
    "target_col = ['toxic', 'severe_toxic', 'obscene', 'threat','insult', 'identity_hate']\n",
    "y = training_data[target_col]\n",
    "del train_vec, test_vec, train_vec_ch, test_vec_ch"
   ]
  },
  {
   "cell_type": "code",
   "execution_count": 8,
   "metadata": {},
   "outputs": [
    {
     "name": "stderr",
     "output_type": "stream",
     "text": [
      "/home/monika/.local/lib/python2.7/site-packages/sklearn/linear_model/logistic.py:432: FutureWarning: Default solver will be changed to 'lbfgs' in 0.22. Specify a solver to silence this warning.\n",
      "  FutureWarning)\n"
     ]
    },
    {
     "name": "stdout",
     "output_type": "stream",
     "text": [
      "CV score for class toxic is 0.975592585703\n",
      "CV score for class severe_toxic is 0.984939778231\n",
      "CV score for class obscene is 0.987940421369\n",
      "CV score for class threat is 0.985969833657\n",
      "CV score for class insult is 0.980048832962\n",
      "CV score for class identity_hate is 0.978486019726\n"
     ]
    }
   ],
   "source": [
    "prd = np.zeros((X_test.shape[0],y.shape[1]))\n",
    "scores=[]\n",
    "for i,col in enumerate(target_col):\n",
    "    lr = LogisticRegression(C=2,random_state = i,class_weight = 'balanced') \n",
    "    lr.fit(X,y[col])\n",
    "    prd[:,i] = lr.predict_proba(X_test)[:,1]\n",
    "    \n",
    "    cv_score = np.mean(cross_val_score(\n",
    "        lr, X, y[col], cv=3, scoring='roc_auc'))\n",
    "    scores.append(cv_score)\n",
    "    print('CV score for class {} is {}'.format(col, cv_score))\n",
    "    \n"
   ]
  },
  {
   "cell_type": "code",
   "execution_count": 9,
   "metadata": {},
   "outputs": [
    {
     "data": {
      "text/html": [
       "<div>\n",
       "<style scoped>\n",
       "    .dataframe tbody tr th:only-of-type {\n",
       "        vertical-align: middle;\n",
       "    }\n",
       "\n",
       "    .dataframe tbody tr th {\n",
       "        vertical-align: top;\n",
       "    }\n",
       "\n",
       "    .dataframe thead th {\n",
       "        text-align: right;\n",
       "    }\n",
       "</style>\n",
       "<table border=\"1\" class=\"dataframe\">\n",
       "  <thead>\n",
       "    <tr style=\"text-align: right;\">\n",
       "      <th></th>\n",
       "      <th>Id</th>\n",
       "      <th>toxic</th>\n",
       "      <th>severe_toxic</th>\n",
       "      <th>obscene</th>\n",
       "      <th>threat</th>\n",
       "      <th>insult</th>\n",
       "      <th>identity_hate</th>\n",
       "    </tr>\n",
       "  </thead>\n",
       "  <tbody>\n",
       "    <tr>\n",
       "      <th>0</th>\n",
       "      <td>149643</td>\n",
       "      <td>0.382367</td>\n",
       "      <td>0.008437</td>\n",
       "      <td>0.005932</td>\n",
       "      <td>0.004701</td>\n",
       "      <td>0.075779</td>\n",
       "      <td>0.033236</td>\n",
       "    </tr>\n",
       "    <tr>\n",
       "      <th>1</th>\n",
       "      <td>47534</td>\n",
       "      <td>0.002829</td>\n",
       "      <td>0.000658</td>\n",
       "      <td>0.001691</td>\n",
       "      <td>0.000131</td>\n",
       "      <td>0.002312</td>\n",
       "      <td>0.002160</td>\n",
       "    </tr>\n",
       "    <tr>\n",
       "      <th>2</th>\n",
       "      <td>85727</td>\n",
       "      <td>0.103540</td>\n",
       "      <td>0.024833</td>\n",
       "      <td>0.066729</td>\n",
       "      <td>0.000263</td>\n",
       "      <td>0.087957</td>\n",
       "      <td>0.002677</td>\n",
       "    </tr>\n",
       "    <tr>\n",
       "      <th>3</th>\n",
       "      <td>113289</td>\n",
       "      <td>0.001294</td>\n",
       "      <td>0.000284</td>\n",
       "      <td>0.001299</td>\n",
       "      <td>0.000181</td>\n",
       "      <td>0.000546</td>\n",
       "      <td>0.000066</td>\n",
       "    </tr>\n",
       "    <tr>\n",
       "      <th>4</th>\n",
       "      <td>74735</td>\n",
       "      <td>0.042102</td>\n",
       "      <td>0.001592</td>\n",
       "      <td>0.001836</td>\n",
       "      <td>0.000736</td>\n",
       "      <td>0.002011</td>\n",
       "      <td>0.002183</td>\n",
       "    </tr>\n",
       "  </tbody>\n",
       "</table>\n",
       "</div>"
      ],
      "text/plain": [
       "       Id     toxic  severe_toxic   obscene    threat    insult  identity_hate\n",
       "0  149643  0.382367      0.008437  0.005932  0.004701  0.075779       0.033236\n",
       "1   47534  0.002829      0.000658  0.001691  0.000131  0.002312       0.002160\n",
       "2   85727  0.103540      0.024833  0.066729  0.000263  0.087957       0.002677\n",
       "3  113289  0.001294      0.000284  0.001299  0.000181  0.000546       0.000066\n",
       "4   74735  0.042102      0.001592  0.001836  0.000736  0.002011       0.002183"
      ]
     },
     "execution_count": 9,
     "metadata": {},
     "output_type": "execute_result"
    }
   ],
   "source": [
    "prd_1 = pd.DataFrame(prd,columns=y.columns)\n",
    "submit = pd.concat([testing_data['Id'],prd_1],axis=1)\n",
    "submit.to_csv('toxic_lr.csv',index=False)\n",
    "submit.head()"
   ]
  }
 ],
 "metadata": {
  "kernelspec": {
   "display_name": "Python 3",
   "language": "python",
   "name": "python3"
  },
  "language_info": {
   "codemirror_mode": {
    "name": "ipython",
    "version": 3
   },
   "file_extension": ".py",
   "mimetype": "text/x-python",
   "name": "python",
   "nbconvert_exporter": "python",
   "pygments_lexer": "ipython3",
   "version": "3.6.5"
  }
 },
 "nbformat": 4,
 "nbformat_minor": 2
}
