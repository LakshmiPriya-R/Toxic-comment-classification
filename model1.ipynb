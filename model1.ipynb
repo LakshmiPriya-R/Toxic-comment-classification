{
 "cells": [
  {
   "cell_type": "code",
   "execution_count": 1,
   "metadata": {},
   "outputs": [],
   "source": [
    "import numpy as np\n",
    "import pandas as pd\n",
    "from sklearn.feature_extraction.text import TfidfVectorizer\n",
    "from sklearn.pipeline import make_union\n",
    "from sklearn.linear_model import LogisticRegression\n",
    "from sklearn.model_selection import cross_val_score\n",
    "import matplotlib.pyplot as plt\n",
    "import matplotlib as mpl\n",
    "from sklearn.metrics import confusion_matrix\n",
    "import itertools\n",
    "import sys\n",
    "import pickle\n",
    "def print_result(classifier,train_features,train_target,scores,class_name):\n",
    "    cv_score = np.mean(cross_val_score(classifier, train_features, train_target, cv=3, scoring='roc_auc'))\n",
    "    scores.append(cv_score)    \n",
    "    print('CV score for class {} is {}'.format(class_name, cv_score))\n",
    "class code:\n",
    "    def __init__(self,trainFile,testFile):\n",
    "        print('xs')\n",
    "        self.trainFile = trainFile\n",
    "        self.testFile = testFile\n",
    "        self.__lr = LogisticRegression(solver='sag')\n",
    "        self.train_data=None\n",
    "        self.test_data=None\n",
    "        self.train_text = None  #Before preprocessing\n",
    "        self.processed_train_text = None #After preprocessing\n",
    "        self.test_text = None\n",
    "        self.processed_test_text = None\n",
    "        self.vectorizer=None\n",
    "        self.Target=None\n",
    "        self.scores=[]\n",
    "        self.submission = None\n",
    "       \n",
    "    \n",
    "    def get_training_Data(self):\n",
    "        df = pd.read_csv(self.trainFile)\n",
    "        df = df.fillna(' ')\n",
    "        self.train_text = df['comment_text']\n",
    "        self.train_data=df\n",
    "        print(df.shape)\n",
    "    def get_testing_Data(self):\n",
    "        d = pd.read_csv(self.testFile)\n",
    "        d = d.fillna(' ')\n",
    "        self.test_text = d['comment_text']\n",
    "        self.submission = pd.DataFrame.from_dict({'Id': d['Id']})\n",
    "        self.test_data=d\n",
    "        print(d.shape)\n",
    "        \n",
    "    def makeVectorizer(self):\n",
    "        word_vectorizer = TfidfVectorizer(sublinear_tf=True,strip_accents='unicode',analyzer='word',token_pattern=r'\\w{1,}',ngram_range=(1, 1),\n",
    "    max_features=30000)\n",
    "        char_vectorizer = TfidfVectorizer(sublinear_tf=True,strip_accents='unicode',analyzer='char',ngram_range=(1, 4),\n",
    "    max_features=30000)\n",
    "        self.vectorizer = make_union(word_vectorizer, char_vectorizer, n_jobs=2)\n",
    "            \n",
    "    def fit_transform(self):\n",
    "        self.get_training_Data()\n",
    "        self.get_testing_Data()\n",
    "        all_text = pd.concat([self.train_text,self.test_text])\n",
    "        self.vectorizer.fit(all_text)\n",
    "        self.processed_train_text =self.vectorizer.transform(self.train_text)\n",
    "        self.processed_test_text =self.vectorizer.transform(self.test_text)\n",
    "            \n",
    "    def training(self):\n",
    "        self.__lr.fit(self.processed_train_text, self.Target)\n",
    "    \n",
    "    def testing(self,class_name):\n",
    "        self.submission[class_name] = self.__lr.predict_proba(self.processed_test_text)[:,1]#Testing\n",
    "        print_result(self.__lr,self.processed_train_text,self.Target,self.scores,class_name)\n",
    "    \n",
    "    def pickling(self,class_name):\n",
    "        file='lr_'+class_name+'.pkl'\n",
    "        output = open(file, 'wb')\n",
    "        pickle.dump(self.__lr, output)\n",
    "    def run(self):\n",
    "        class_names = ['toxic', 'severe_toxic', 'obscene', 'threat', 'insult', 'identity_hate']\n",
    "        for class_name in class_names:\n",
    "            self.Target = self.train_data[class_name]\n",
    "            self.training()#Training\n",
    "            self.testing(class_name) \n",
    "            train_pred=self.__lr.predict_proba(self.processed_train_text)[:,1]\n",
    "            self.pickling(class_name)\n",
    "          #  plotConfusionMatrix(self.Target,train_pred.round())\n",
    "        self.submission.to_csv('oops_submission1.csv', index=False)"
   ]
  },
  {
   "cell_type": "code",
   "execution_count": null,
   "metadata": {},
   "outputs": [],
   "source": []
  },
  {
   "cell_type": "code",
   "execution_count": 2,
   "metadata": {
    "scrolled": true
   },
   "outputs": [
    {
     "name": "stdout",
     "output_type": "stream",
     "text": [
      "sdsds\n",
      "xs\n",
      "<__main__.code object at 0x7f9acc4237f0>\n",
      "vectorizer made\n",
      "(149571, 8)\n",
      "(10000, 2)\n",
      "Preprocessing done\n",
      "CV score for class toxic is 0.979063471010894\n",
      "CV score for class severe_toxic is 0.9885138189543179\n",
      "CV score for class obscene is 0.990323876160348\n",
      "CV score for class threat is 0.9879786661827538\n",
      "CV score for class insult is 0.9827579353978605\n",
      "CV score for class identity_hate is 0.9830363373388115\n"
     ]
    }
   ],
   "source": [
    "print('sdsds')\n",
    "if __name__ == \"__main__\":\n",
    "    train_File = '/home/dharmik/ml_project/input/train.csv'\n",
    "    test_File = '/home/dharmik/ml_project/input/test.csv'\n",
    "    Code=code(train_File,test_File)\n",
    "    print(Code)\n",
    "    #Finding the preprocessing vector\n",
    "    Code.makeVectorizer()\n",
    "    print('vectorizer made')\n",
    "    #preprocessing\n",
    "    Code.fit_transform()\n",
    "    print('Preprocessing done')\n",
    "    #Running\n",
    "    Code.run()"
   ]
  },
  {
   "cell_type": "code",
   "execution_count": null,
   "metadata": {},
   "outputs": [],
   "source": []
  },
  {
   "cell_type": "code",
   "execution_count": null,
   "metadata": {},
   "outputs": [],
   "source": []
  },
  {
   "cell_type": "code",
   "execution_count": null,
   "metadata": {},
   "outputs": [],
   "source": []
  }
 ],
 "metadata": {
  "kernelspec": {
   "display_name": "Python 3",
   "language": "python",
   "name": "python3"
  },
  "language_info": {
   "codemirror_mode": {
    "name": "ipython",
    "version": 3
   },
   "file_extension": ".py",
   "mimetype": "text/x-python",
   "name": "python",
   "nbconvert_exporter": "python",
   "pygments_lexer": "ipython3",
   "version": "3.6.5"
  }
 },
 "nbformat": 4,
 "nbformat_minor": 2
}
